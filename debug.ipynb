{
 "cells": [
  {
   "cell_type": "code",
   "execution_count": 18,
   "metadata": {},
   "outputs": [
    {
     "name": "stdout",
     "output_type": "stream",
     "text": [
      "[[  0  10  20  30  40  50  60  70  80  90 100 110 120 130 140 150 160 170\n",
      "  180 190 200]\n",
      " [200 210 220 230 240 250 260 270 280 290 300 310 320 330 340 350 360 370\n",
      "  380 390 400]\n",
      " [400 410 420 430 440 450 460 470 480 490 500 510 520 530 540 550 560 570\n",
      "  580 590 600]\n",
      " [600 610 620 630 640 650 660 670 680 690 700 710 720 730 740 750 760 770\n",
      "  780 790 800]]\n",
      "(4, 21)\n",
      "(4, 20, 64, 64)\n"
     ]
    }
   ],
   "source": [
    "import numpy as np\n",
    "def generate_test_matrix(cols:int, final_index:int):\n",
    "    # Calculate the number of rows based on the final index and number of columns\n",
    "    rows = (final_index + 1) // (cols - 1)\n",
    "    \n",
    "    # Check if an additional row is needed to reach the final index\n",
    "    if (final_index + 1) % (cols - 1) != 0:\n",
    "        rows += 1\n",
    "    \n",
    "    # Initialize a matrix filled with zeros\n",
    "    matrix = np.zeros((rows, cols),dtype=int)\n",
    "    \n",
    "    # Fill the matrix according to the specified pattern\n",
    "    current_value = 0\n",
    "    for i in range(rows):\n",
    "        for j in range(cols):\n",
    "            if current_value <= final_index:\n",
    "                matrix[i, j] = current_value\n",
    "                current_value += 1\n",
    "        current_value -= 1  # Repeat the last element in the next row\n",
    "                \n",
    "    return matrix[:-1,:]\n",
    "\n",
    "x = np.random.rand(1000,64,64)\n",
    "# col = num snapshot +1 final_indx = total_sample -1\n",
    "idx_matrix = generate_test_matrix(20+1, 100-1) * int(10)\n",
    "print(idx_matrix)\n",
    "new_x = np.array([x[idx_matrix[i,1:]] for i in range(idx_matrix.shape[0])])\n",
    "print(idx_matrix.shape)\n",
    "print(new_x.shape)"
   ]
  },
  {
   "cell_type": "code",
   "execution_count": null,
   "metadata": {},
   "outputs": [],
   "source": []
  }
 ],
 "metadata": {
  "kernelspec": {
   "display_name": "torch",
   "language": "python",
   "name": "python3"
  },
  "language_info": {
   "codemirror_mode": {
    "name": "ipython",
    "version": 3
   },
   "file_extension": ".py",
   "mimetype": "text/x-python",
   "name": "python",
   "nbconvert_exporter": "python",
   "pygments_lexer": "ipython3",
   "version": "3.11.4"
  },
  "orig_nbformat": 4
 },
 "nbformat": 4,
 "nbformat_minor": 2
}
