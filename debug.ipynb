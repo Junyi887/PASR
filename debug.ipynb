{
 "cells": [
  {
   "cell_type": "code",
   "execution_count": 17,
   "metadata": {},
   "outputs": [
    {
     "name": "stdout",
     "output_type": "stream",
     "text": [
      "Generated Toeplitz Matrix:\n",
      "[[   0.   10.   20. ...   70.   80.   90.]\n",
      " [  10.   20.   30. ...   80.   90.  100.]\n",
      " [  20.   30.   40. ...   90.  100.  110.]\n",
      " ...\n",
      " [4890. 4900. 4910. ... 4960. 4970. 4980.]\n",
      " [4900. 4910. 4920. ... 4970. 4980. 4990.]\n",
      " [4910. 4920. 4930. ... 4980. 4990. 5000.]]\n",
      "(492, 10)\n"
     ]
    }
   ],
   "source": [
    "import numpy as np\n",
    "\n",
    "def generate_toeplitz(cols, final_index):\n",
    "    # Calculate the number of rows based on the final index and number of columns\n",
    "    rows = final_index - cols + 2\n",
    "    \n",
    "    # Initialize a matrix filled with zeros\n",
    "    matrix = np.zeros((rows, cols))\n",
    "    \n",
    "    # Fill the matrix such that it becomes a Toeplitz matrix\n",
    "    for i in range(rows):\n",
    "        for j in range(cols):\n",
    "            value = i + j\n",
    "            matrix[i, j] = min(value, final_index)\n",
    "                \n",
    "    return matrix\n",
    "\n",
    "n_snapshot = 10\n",
    "time_scale_factor = 4\n",
    "# Example usage\n",
    "total_number = 2000 # Total number of time steps\n",
    "cols = n_snapshot \n",
    " # Number of columns\n",
    "final_index = total_number//time_scale_factor  # Final index number\n",
    "toeplitz_matrix = generate_toeplitz(cols, final_index)\n",
    "print(\"Generated Toeplitz Matrix:\")\n",
    "print(toeplitz_matrix*10)\n",
    "print(toeplitz_matrix.shape)\n"
   ]
  },
  {
   "cell_type": "code",
   "execution_count": null,
   "metadata": {},
   "outputs": [],
   "source": []
  }
 ],
 "metadata": {
  "kernelspec": {
   "display_name": "torch",
   "language": "python",
   "name": "python3"
  },
  "language_info": {
   "codemirror_mode": {
    "name": "ipython",
    "version": 3
   },
   "file_extension": ".py",
   "mimetype": "text/x-python",
   "name": "python",
   "nbconvert_exporter": "python",
   "pygments_lexer": "ipython3",
   "version": "3.11.4"
  },
  "orig_nbformat": 4
 },
 "nbformat": 4,
 "nbformat_minor": 2
}
