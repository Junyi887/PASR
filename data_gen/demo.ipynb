{
  "cells": [
    {
      "cell_type": "markdown",
      "metadata": {
        "id": "4K4FCNvH8dtm"
      },
      "source": [
        "# JAX-CFD demo\n",
        "\n",
        "This initial demonstration shows how to use JAX-CFD to simulate decaying turbulence in 2D."
      ]
    },
    {
      "cell_type": "code",
      "execution_count": 1,
      "metadata": {
        "executionInfo": {
          "elapsed": 6549,
          "status": "ok",
          "timestamp": 1635284279593,
          "user": {
            "displayName": "",
            "photoUrl": "",
            "userId": ""
          },
          "user_tz": 420
        },
        "id": "n2J40uBCo9By"
      },
      "outputs": [],
      "source": [
        "import jax\n",
        "import jax.numpy as jnp\n",
        "import jax_cfd.base as cfd\n",
        "import numpy as np\n",
        "import seaborn\n",
        "import xarray"
      ]
    },
    {
      "cell_type": "code",
      "execution_count": 2,
      "metadata": {
        "executionInfo": {
          "elapsed": 6551,
          "status": "ok",
          "timestamp": 1635284297511,
          "user": {
            "displayName": "",
            "photoUrl": "",
            "userId": ""
          },
          "user_tz": 420
        },
        "id": "KcJcpDavpAoi",
        "outputId": "e07e7188-7fce-464e-9189-52b35748fd76"
      },
      "outputs": [
        {
          "name": "stderr",
          "output_type": "stream",
          "text": [
            "No GPU/TPU found, falling back to CPU. (Set TF_CPP_MIN_LOG_LEVEL=0 and rerun for more info.)\n"
          ]
        },
        {
          "name": "stdout",
          "output_type": "stream",
          "text": [
            "CPU times: user 2min 8s, sys: 2.33 s, total: 2min 11s\n",
            "Wall time: 52.4 s\n"
          ]
        }
      ],
      "source": [
        "size = 256\n",
        "density = 1.\n",
        "viscosity = 1e-3\n",
        "seed = 0\n",
        "inner_steps = 25\n",
        "outer_steps = 2000\n",
        "\n",
        "max_velocity = 2.0\n",
        "cfl_safety_factor = 0.5\n",
        "\n",
        "# Define the physical dimensions of the simulation.\n",
        "grid = cfd.grids.Grid((size, size), domain=((0, 2 * jnp.pi), (0, 2 * jnp.pi)))\n",
        "\n",
        "# Construct a random initial velocity. The `filtered_velocity_field` function\n",
        "# ensures that the initial velocity is divergence free and it filters out\n",
        "# high frequency fluctuations.\n",
        "v0 = cfd.initial_conditions.filtered_velocity_field(\n",
        "    jax.random.PRNGKey(seed), grid, max_velocity)\n",
        "\n",
        "# Choose a time step.\n",
        "dt = cfd.equations.stable_time_step(\n",
        "    max_velocity, cfl_safety_factor, viscosity, grid)\n",
        "\n",
        "# Define a step function and use it to compute a trajectory.\n",
        "step_fn = cfd.funcutils.repeated(\n",
        "    cfd.equations.semi_implicit_navier_stokes(\n",
        "        density=density, viscosity=viscosity, dt=dt, grid=grid),\n",
        "    steps=inner_steps)\n",
        "rollout_fn = jax.jit(cfd.funcutils.trajectory(step_fn, outer_steps))\n",
        "%time _, trajectory = jax.device_get(rollout_fn(v0))"
      ]
    },
    {
      "cell_type": "code",
      "execution_count": 3,
      "metadata": {
        "executionInfo": {
          "elapsed": 54,
          "status": "ok",
          "timestamp": 1635284856908,
          "user": {
            "displayName": "",
            "photoUrl": "",
            "userId": ""
          },
          "user_tz": 420
        },
        "id": "m_q3OSfxjjfY",
        "outputId": "e9bbb584-c53e-4148-d744-37c08140c28f"
      },
      "outputs": [
        {
          "name": "stdout",
          "output_type": "stream",
          "text": [
            "Component 0: GridVariable(array=GridArray(data=array([[[-0.89350396, ..., -0.8515546 ],\n",
            "        ...,\n",
            "        [-0.90172863, ..., -0.86095315]],\n",
            "\n",
            "       ...,\n",
            "\n",
            "       [[ 0.05969305, ...,  0.04689904],\n",
            "        ...,\n",
            "        [ 0.05948671, ...,  0.04670579]]], dtype=float32), offset=(1.0, 0.5), grid=Grid(shape=(256, 256), step=(0.02454369260617026, 0.02454369260617026), domain=((0.0, 6.283185307179586), (0.0, 6.283185307179586)))), bc=HomogeneousBoundaryConditions(types=(('periodic', 'periodic'), ('periodic', 'periodic')), bc_values=((0.0, 0.0), (0.0, 0.0))))\n",
            "Component 1: GridVariable(array=GridArray(data=array([[[0.14294599, ..., 0.1511707 ],\n",
            "        ...,\n",
            "        [0.17220268, ..., 0.18040821]],\n",
            "\n",
            "       ...,\n",
            "\n",
            "       [[0.1026273 , ..., 0.10283364],\n",
            "        ...,\n",
            "        [0.11526749, ..., 0.11549944]]], dtype=float32), offset=(0.5, 1.0), grid=Grid(shape=(256, 256), step=(0.02454369260617026, 0.02454369260617026), domain=((0.0, 6.283185307179586), (0.0, 6.283185307179586)))), bc=HomogeneousBoundaryConditions(types=(('periodic', 'periodic'), ('periodic', 'periodic')), bc_values=((0.0, 0.0), (0.0, 0.0))))\n"
          ]
        }
      ],
      "source": [
        "# JAX-CFD uses GridVariable objects for input/output. These objects contain:\n",
        "#  - array data\n",
        "#  - an \"offset\" that documents the position on the unit-cell where the data\n",
        "#    values are located\n",
        "#  - grid properties\n",
        "#  - boundary conditions on the variable\n",
        "with np.printoptions(edgeitems=1):\n",
        "  for i, u in enumerate(trajectory):\n",
        "    print(f'Component {i}: {u}')"
      ]
    },
    {
      "cell_type": "code",
      "execution_count": 4,
      "metadata": {
        "executionInfo": {
          "elapsed": 57,
          "status": "ok",
          "timestamp": 1635284965458,
          "user": {
            "displayName": "",
            "photoUrl": "",
            "userId": ""
          },
          "user_tz": 420
        },
        "id": "OpBLRIXZD4ny"
      },
      "outputs": [],
      "source": [
        "# load into xarray for visualization and analysis\n",
        "ds = xarray.Dataset(\n",
        "    {\n",
        "        'u': (('time', 'x', 'y'), trajectory[0].data),\n",
        "        'v': (('time', 'x', 'y'), trajectory[1].data),\n",
        "    },\n",
        "    coords={\n",
        "        'x': grid.axes()[0],\n",
        "        'y': grid.axes()[1],\n",
        "        'time': dt * inner_steps * np.arange(outer_steps)\n",
        "    }\n",
        ")"
      ]
    },
    {
      "cell_type": "code",
      "execution_count": 5,
      "metadata": {
        "colab": {
          "height": 263
        },
        "executionInfo": {
          "elapsed": 60,
          "status": "ok",
          "timestamp": 1635284966443,
          "user": {
            "displayName": "",
            "photoUrl": "",
            "userId": ""
          },
          "user_tz": 420
        },
        "id": "p4VzDmxoEuha",
        "outputId": "25639ac6-1386-48ed-8270-05e063a69823"
      },
      "outputs": [
        {
          "name": "stderr",
          "output_type": "stream",
          "text": [
            "/home/junyi/jax-cfd/jax_cfd/data/xarray_utils.py:196: FutureWarning: ``output_sizes`` should be given in the ``dask_gufunc_kwargs`` parameter. It will be removed as direct parameter in a future version.\n",
            "  result = xarray.apply_ufunc(\n",
            "/home/junyi/jax-cfd/jax_cfd/data/xarray_utils.py:196: FutureWarning: ``output_sizes`` should be given in the ``dask_gufunc_kwargs`` parameter. It will be removed as direct parameter in a future version.\n",
            "  result = xarray.apply_ufunc(\n"
          ]
        },
        {
          "name": "stdout",
          "output_type": "stream",
          "text": [
            "(127,)\n"
          ]
        },
        {
          "data": {
            "text/plain": [
              "[]"
            ]
          },
          "execution_count": 5,
          "metadata": {},
          "output_type": "execute_result"
        },
        {
          "data": {
            "image/png": "[encoded data removed]",
            "text/plain": [
              "<Figure size 640x480 with 1 Axes>"
            ]
          },
          "metadata": {},
          "output_type": "display_data"
        }
      ],
      "source": [
        "import jax_cfd.data as ans\n",
        "Ek = ans.xarray_utils.isotropic_energy_spectrum(ds,('time'))\n",
        "print(Ek.data.shape)\n",
        "import matplotlib.pyplot as plt\n",
        "plt.plot(np.arange(1,len(Ek.data)+1),Ek.data)\n",
        "plt.loglog()"
      ]
    },
    {
      "cell_type": "code",
      "execution_count": 9,
      "metadata": {},
      "outputs": [
        {
          "name": "stdout",
          "output_type": "stream",
          "text": [
            "(2000, 256, 256)\n",
            "(2000, 256, 256)\n",
            "(2000, 256, 256)\n"
          ]
        },
        {
          "data": {
            "text/plain": [
              "[]"
            ]
          },
          "execution_count": 9,
          "metadata": {},
          "output_type": "execute_result"
        },
        {
          "data": {
            "image/png": "[encoded data removed]",
            "text/plain": [
              "<Figure size 640x480 with 1 Axes>"
            ]
          },
          "metadata": {},
          "output_type": "display_data"
        }
      ],
      "source": [
        "\n",
        "def azimuthalAverage(image, center=None):\n",
        "    \"\"\"\n",
        "    Calculate the azimuthally averaged radial profile.\n",
        "\n",
        "    image - The 2D image\n",
        "    center - The [x,y] pixel coordinates used as the center. The default is \n",
        "             None, which then uses the center of the image (including \n",
        "             fracitonal pixels).\n",
        "    \n",
        "    \"\"\"\n",
        "    # Calculate the indices from the image\n",
        "    y, x = np.indices(image.shape)\n",
        "\n",
        "    if not center:\n",
        "        center = np.array([(x.max()-x.min())/2.0, (x.max()-x.min())/2.0])\n",
        "\n",
        "    r = np.hypot(x - center[0], y - center[1])\n",
        "\n",
        "    # Get sorted radii\n",
        "    ind = np.argsort(r.flat)\n",
        "    r_sorted = r.flat[ind]\n",
        "    i_sorted = image.flat[ind]\n",
        "\n",
        "    # Get the integer part of the radii (bin size = 1)\n",
        "    r_int = r_sorted.astype(int)\n",
        "\n",
        "    # Find all pixels that fall within each radial bin.\n",
        "    deltar = r_int[1:] - r_int[:-1]  # Assumes all radii represented\n",
        "    rind = np.where(deltar)[0]       # location of changed radius\n",
        "    nr = rind[1:] - rind[:-1]        # number of radius bin\n",
        "    \n",
        "    # Cumulative sum to figure out sums for each radius bin\n",
        "    csim = np.cumsum(i_sorted, dtype=float)\n",
        "    tbin = csim[rind[1:]] - csim[rind[:-1]]\n",
        "\n",
        "    radial_prof = tbin / nr\n",
        "\n",
        "    return radial_prof\n",
        "\n",
        "u= ds['u'].values\n",
        "v= ds['v'].values\n",
        "print(u.shape)\n",
        "u_mean = np.mean(u, axis = 0)\n",
        "v_mean = np.mean(v, axis = 0)\n",
        "true_u = u - u_mean\n",
        "print(true_u.shape)\n",
        "true_v = v - v_mean\n",
        "tke = 0.5*(true_u**2 + true_v**2)\n",
        "\n",
        "print(tke.shape)\n",
        "\n",
        "def tke2spectrum(tke):\n",
        "    sp = np.fft.fft2(tke)\n",
        "    sp = np.fft.fftshift(sp)\n",
        "    sp = np.real(sp*np.conjugate(sp))\n",
        "    sp1D = azimuthalAverage(sp)\n",
        "    return sp1D\n",
        "\n",
        "spec = np.array([tke2spectrum(tke[i]) for i in range(tke.shape[0])])\n",
        "x,s = np.mean(spec, axis = 0), np.std(spec, axis = 0)\n",
        "x_idx = np.array(list(range(0,len(s))))\n",
        "plt.plot(x_idx,s)\n",
        "plt.loglog()"
      ]
    },
    {
      "cell_type": "code",
      "execution_count": 8,
      "metadata": {},
      "outputs": [
        {
          "name": "stdout",
          "output_type": "stream",
          "text": [
            "\n",
            "Reading files...localtime Thu Aug 31 18:14:49 2023\n",
            "shape of data =  (2000, 2, 256, 256)\n",
            "Reading files...localtime Thu Aug 31 18:14:49 2023 - END\n",
            "\n",
            "Computing spectrum...  Thu Aug 31 18:14:49 2023\n",
            "N = 256\n",
            "amplsU.shape = (256, 256)\n",
            "box sidex     = 256\n",
            "box sidey     = 256\n",
            "sphere radius = 183\n",
            "centerbox     = 128\n",
            "centerboy     = 128\n",
            "129\n",
            "Real      Kmax    =  129\n",
            "Spherical Kmax    =  183\n",
            "the KE  of the mean velocity discrete  =  1.3768817584122774e-16\n",
            "the KE  of the mean velocity sphere    =  2.37688175848916e-16\n",
            "the mean KE discrete  =  0.01146033126860857\n",
            "the mean KE sphere    =  0.011460331785909687\n",
            "Computing spectrum...  Thu Aug 31 18:14:49 2023 - END \n",
            "\n"
          ]
        },
        {
          "data": {
            "image/png": "[encoded data removed]",
            "text/plain": [
              "<Figure size 640x480 with 1 Axes>"
            ]
          },
          "metadata": {},
          "output_type": "display_data"
        }
      ],
      "source": [
        "# python 3\n",
        "u = ds['u'].values\n",
        "v = ds['v'].values\n",
        "# Script for the computation of 3D spectrum of the Total Kinetic Energy\n",
        "# Adapted to the Taylor-Green vortex (TGV) problem.\n",
        "# CREATED by FARSHAD NAVAH\n",
        "# McGill University\n",
        "# farshad.navah .a.t. mail.mcgill.ca\n",
        "# 2018\n",
        "# provided as is with no garantee.\n",
        "# Please cite:\n",
        "#    https://github.com/fanav/Energy_Spectrum\n",
        "#    https://arxiv.org/abs/1809.03966\n",
        "\n",
        "# -----------------------------------------------------------------\n",
        "#  IMPORTS - ENVIRONMENT\n",
        "# -----------------------------------------------------------------\n",
        "\n",
        "import numpy as np\n",
        "import matplotlib.pyplot as plt\n",
        "import time\n",
        "from math import sqrt\n",
        "\n",
        "# -----------------------------------------------------------------\n",
        "#  TGV QUANTS\n",
        "# -----------------------------------------------------------------\n",
        "\n",
        "# These quantities are to account for particular non-dimensionalizations of state variables.\n",
        "# In general U0=1.\n",
        "c  = sqrt(1.4);\n",
        "Ma = 0.1;\n",
        "U0 = 1.0; \n",
        "\n",
        "# -----------------------------------------------------------------\n",
        "#  INPUT FILE PARAMS\n",
        "# -----------------------------------------------------------------\n",
        "\n",
        "# -----------------------------------------------------------------\n",
        "#  OUTOUT FILE PARAMS\n",
        "# -----------------------------------------------------------------\n",
        "\n",
        "Figs_Path = \"./\"\n",
        "Fig_file_name = \"Ek_Spectrum\"\n",
        "\n",
        "# -----------------------------------------------------------------\n",
        "#  READ FILES\n",
        "# -----------------------------------------------------------------\n",
        "\n",
        "localtime = time.asctime( time.localtime(time.time()) )\n",
        "print (\"\\nReading files...localtime\",localtime)\n",
        "\n",
        "#load the ascii file\n",
        "data = np.stack((u,v),axis=1)\n",
        "\n",
        "print (\"shape of data = \",data.shape)\n",
        "\n",
        "localtime = time.asctime( time.localtime(time.time()) )\n",
        "print (\"Reading files...localtime\",localtime, \"- END\\n\")\n",
        "\n",
        "# -----------------------------------------------------------------\n",
        "#  COMPUTATIONS\n",
        "# -----------------------------------------------------------------\n",
        "localtime = time.asctime( time.localtime(time.time()) )\n",
        "print (\"Computing spectrum... \",localtime)\n",
        "\n",
        "N = data.shape[-1]\n",
        "print(\"N =\",N)\n",
        "eps = 1e-16 # to void log(0)\n",
        "\n",
        "U = data[:,0].mean(axis=0)\n",
        "V = data[:,1].mean(axis=0)\n",
        "# U = data[:,3].reshape(N,N,N)/U0\n",
        "# V = data[:,4].reshape(N,N,N)/U0\n",
        "# W = data[:,5].reshape(N,N,N)/U0\n",
        "\n",
        "amplsU = abs(np.fft.fftn(U)/U.size)\n",
        "amplsV = abs(np.fft.fftn(V)/V.size)\n",
        "print(f\"amplsU.shape = {amplsU.shape}\")\n",
        "# amplsW = abs(np.fft.fftn(W)/W.size)\n",
        "\n",
        "EK_U  = amplsU**2\n",
        "EK_V  = amplsV**2 \n",
        "# EK_W  = amplsW**2 \n",
        "\n",
        "EK_U = np.fft.fftshift(EK_U)\n",
        "EK_V = np.fft.fftshift(EK_V)\n",
        "# EK_W = np.fft.fftshift(EK_W)\n",
        "\n",
        "sign_sizex = np.shape(EK_U)[0]\n",
        "sign_sizey = np.shape(EK_U)[1]\n",
        "# sign_sizez = np.shape(EK_U)[2]\n",
        "\n",
        "box_sidex = sign_sizex\n",
        "box_sidey = sign_sizey\n",
        "# box_sidez = sign_sizez\n",
        "\n",
        "# box_radius = int(np.ceil((np.sqrt((box_sidex)**2+(box_sidey)**2+(box_sidez)**2))/2.)+1)\n",
        "box_radius = int(np.ceil((np.sqrt((box_sidex)**2+(box_sidey)**2))/2.)+1)\n",
        "centerx = int(box_sidex/2)\n",
        "centery = int(box_sidey/2)\n",
        "# centerz = int(box_sidez/2)\n",
        "\n",
        "print (\"box sidex     =\",box_sidex) \n",
        "print (\"box sidey     =\",box_sidey) \n",
        "# print (\"box sidez     =\",box_sidez)\n",
        "print (\"sphere radius =\",box_radius )\n",
        "print (\"centerbox     =\",centerx)\n",
        "print (\"centerboy     =\",centery)\n",
        "# print (\"centerboz     =\",centerz,\"\\n\" )\n",
        "\t            \n",
        "EK_U_avsphr = np.zeros(box_radius,)+eps ## size of the radius\n",
        "EK_V_avsphr = np.zeros(box_radius,)+eps ## size of the radius\n",
        "# EK_W_avsphr = np.zeros(box_radius,)+eps ## size of the radius\n",
        "\n",
        "# for i in range(box_sidex):\n",
        "# \tfor j in range(box_sidey):\n",
        "# \t\tfor k in range(box_sidez):            \n",
        "# \t\t\twn =  int(np.round(np.sqrt((i-centerx)**2+(j-centery)**2+(k-centerz)**2)))\n",
        "# \t\t\tEK_U_avsphr[wn] = EK_U_avsphr [wn] + EK_U [i,j,k]\n",
        "# \t\t\tEK_V_avsphr[wn] = EK_V_avsphr [wn] + EK_V [i,j,k]    \n",
        "# \t\t\tEK_W_avsphr[wn] = EK_W_avsphr [wn] + EK_W [i,j,k]        \n",
        "for i in range(box_sidex):\n",
        "\tfor j in range(box_sidey):          \n",
        "\t\twn =  int(np.round(np.sqrt((i-centerx)**2+(j-centery)**2)))\n",
        "\t\tEK_U_avsphr[wn] = EK_U_avsphr [wn] + EK_U [i,j]\n",
        "\t\tEK_V_avsphr[wn] = EK_V_avsphr [wn] + EK_V [i,j]     \n",
        "EK_avsphr = 0.5*(EK_U_avsphr + EK_V_avsphr)\n",
        "\t                      \n",
        "fig = plt.figure()\n",
        "plt.title(\"Kinetic Energy Spectrum\")\n",
        "plt.xlabel(r\"k (wavenumber)\")\n",
        "plt.ylabel(r\"TKE of the k$^{th}$ wavenumber\")\n",
        "\n",
        "realsize = len(np.fft.rfft(U[:,0]))\n",
        "print(realsize)\n",
        "plt.loglog(np.arange(0,realsize),((EK_avsphr[0:realsize] )),'k')\n",
        "plt.loglog(np.arange(realsize,len(EK_avsphr),1),((EK_avsphr[realsize:] )),'k--')\n",
        "axes = plt.gca()\n",
        "# axes.set_ylim([10**-25,5**-1])\n",
        "\n",
        "print(\"Real      Kmax    = \",realsize)\n",
        "print(\"Spherical Kmax    = \",len(EK_avsphr))\n",
        "\n",
        "TKEofmean_discrete = 0.5*(np.sum(U/U.size)**2+np.sum(V/V.size)**2)\n",
        "TKEofmean_sphere   = EK_avsphr[0]\n",
        "\n",
        "total_TKE_discrete = np.sum(0.5*(U**2+V**2))/(N*1.0)**2\n",
        "total_TKE_sphere   = np.sum(EK_avsphr)\n",
        "\n",
        "print(\"the KE  of the mean velocity discrete  = \",TKEofmean_discrete)\n",
        "print(\"the KE  of the mean velocity sphere    = \",TKEofmean_sphere )\n",
        "print(\"the mean KE discrete  = \",total_TKE_discrete)\n",
        "print(\"the mean KE sphere    = \",total_TKE_sphere)\n",
        "\n",
        "localtime = time.asctime( time.localtime(time.time()) )\n",
        "print (\"Computing spectrum... \",localtime, \"- END \\n\")\n",
        "\n",
        "# -----------------------------------------------------------------\n",
        "#  OUTPUT/PLOTS\n",
        "# -----------------------------------------------------------------\n",
        "\n",
        "dataout      = np.zeros((box_radius,2)) \n",
        "dataout[:,0] = np.arange(0,len(dataout))\n",
        "dataout[:,1] = EK_avsphr[0:len(dataout)]\n",
        "\n",
        "# np.savetxt(Figs_Path+Fig_file_name+'.dat',dataout)\n",
        "fig.savefig(Figs_Path+Fig_file_name+'.pdf')"
      ]
    },
    {
      "cell_type": "code",
      "execution_count": null,
      "metadata": {
        "colab": {
          "height": 441
        },
        "executionInfo": {
          "elapsed": 1468,
          "status": "ok",
          "timestamp": 1635284970861,
          "user": {
            "displayName": "",
            "photoUrl": "",
            "userId": ""
          },
          "user_tz": 420
        },
        "id": "SneOsAJI-1TI",
        "outputId": "15b54a65-a2b2-40fb-b89a-41a1fa7f0636"
      },
      "outputs": [],
      "source": [
        "def vorticity(ds):\n",
        "  return (ds.v.differentiate('x') - ds.u.differentiate('y')).rename('vorticity')\n",
        "\n",
        "(ds.pipe(vorticity).thin(time=20)\n",
        " .plot.imshow(col='time', cmap=seaborn.cm.icefire, robust=True, col_wrap=5));"
      ]
    },
    {
      "cell_type": "code",
      "execution_count": null,
      "metadata": {
        "id": "6CAny0B0im56"
      },
      "outputs": [],
      "source": []
    }
  ],
  "metadata": {
    "colab": {
      "collapsed_sections": [],
      "last_runtime": {
        "build_target": "//learning/deepmind/public/tools/ml_python:ml_notebook",
        "kind": "private"
      },
      "name": "JAX-CFD demo.ipynb",
      "provenance": []
    },
    "kernelspec": {
      "display_name": "Python 3",
      "name": "python3"
    },
    "language_info": {
      "codemirror_mode": {
        "name": "ipython",
        "version": 3
      },
      "file_extension": ".py",
      "mimetype": "text/x-python",
      "name": "python",
      "nbconvert_exporter": "python",
      "pygments_lexer": "ipython3",
      "version": "3.11.4"
    }
  },
  "nbformat": 4,
  "nbformat_minor": 0
}
