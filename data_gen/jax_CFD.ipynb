{
 "cells": [
  {
   "cell_type": "code",
   "execution_count": 4,
   "metadata": {},
   "outputs": [
    {
     "ename": "AttributeError",
     "evalue": "module 'jax.numpy' has no attribute 'DeviceArray'",
     "output_type": "error",
     "traceback": [
      "\u001b[0;31m---------------------------------------------------------------------------\u001b[0m",
      "\u001b[0;31mAttributeError\u001b[0m                            Traceback (most recent call last)",
      "\u001b[1;32m/home/junyi/workspace/PASR/data_gen/jax_CFD.ipynb Cell 1\u001b[0m line \u001b[0;36m3\n\u001b[1;32m      <a href='vscode-notebook-cell://ssh-remote%2Bjunyi4090.ddns.net/home/junyi/workspace/PASR/data_gen/jax_CFD.ipynb#W0sdnNjb2RlLXJlbW90ZQ%3D%3D?line=0'>1</a>\u001b[0m \u001b[39mimport\u001b[39;00m \u001b[39mjax\u001b[39;00m\n\u001b[1;32m      <a href='vscode-notebook-cell://ssh-remote%2Bjunyi4090.ddns.net/home/junyi/workspace/PASR/data_gen/jax_CFD.ipynb#W0sdnNjb2RlLXJlbW90ZQ%3D%3D?line=1'>2</a>\u001b[0m \u001b[39mimport\u001b[39;00m \u001b[39mjax\u001b[39;00m\u001b[39m.\u001b[39;00m\u001b[39mnumpy\u001b[39;00m \u001b[39mas\u001b[39;00m \u001b[39mjnp\u001b[39;00m\n\u001b[0;32m----> <a href='vscode-notebook-cell://ssh-remote%2Bjunyi4090.ddns.net/home/junyi/workspace/PASR/data_gen/jax_CFD.ipynb#W0sdnNjb2RlLXJlbW90ZQ%3D%3D?line=2'>3</a>\u001b[0m \u001b[39mimport\u001b[39;00m \u001b[39mjax_cfd\u001b[39;00m\u001b[39m.\u001b[39;00m\u001b[39mbase\u001b[39;00m \u001b[39mas\u001b[39;00m \u001b[39mcfd\u001b[39;00m\n\u001b[1;32m      <a href='vscode-notebook-cell://ssh-remote%2Bjunyi4090.ddns.net/home/junyi/workspace/PASR/data_gen/jax_CFD.ipynb#W0sdnNjb2RlLXJlbW90ZQ%3D%3D?line=3'>4</a>\u001b[0m \u001b[39mimport\u001b[39;00m \u001b[39mnumpy\u001b[39;00m \u001b[39mas\u001b[39;00m \u001b[39mnp\u001b[39;00m\n\u001b[1;32m      <a href='vscode-notebook-cell://ssh-remote%2Bjunyi4090.ddns.net/home/junyi/workspace/PASR/data_gen/jax_CFD.ipynb#W0sdnNjb2RlLXJlbW90ZQ%3D%3D?line=4'>5</a>\u001b[0m \u001b[39mimport\u001b[39;00m \u001b[39mseaborn\u001b[39;00m\n",
      "File \u001b[0;32m~/anaconda3/envs/torch2/lib/python3.11/site-packages/jax_cfd/__init__.py:19\u001b[0m\n\u001b[1;32m     15\u001b[0m \u001b[39m\"\"\"Defines the JAX-CFD module for computational fluid dynamics.\"\"\"\u001b[39;00m\n\u001b[1;32m     17\u001b[0m __version__ \u001b[39m=\u001b[39m \u001b[39m'\u001b[39m\u001b[39m0.2.0\u001b[39m\u001b[39m'\u001b[39m\n\u001b[0;32m---> 19\u001b[0m \u001b[39mimport\u001b[39;00m \u001b[39mjax_cfd\u001b[39;00m\u001b[39m.\u001b[39;00m\u001b[39mbase\u001b[39;00m\n",
      "File \u001b[0;32m~/anaconda3/envs/torch2/lib/python3.11/site-packages/jax_cfd/base/__init__.py:17\u001b[0m\n\u001b[1;32m      1\u001b[0m \u001b[39m# Copyright 2021 Google LLC\u001b[39;00m\n\u001b[1;32m      2\u001b[0m \u001b[39m#\u001b[39;00m\n\u001b[1;32m      3\u001b[0m \u001b[39m# Licensed under the Apache License, Version 2.0 (the \"License\");\u001b[39;00m\n\u001b[0;32m   (...)\u001b[0m\n\u001b[1;32m     12\u001b[0m \u001b[39m# See the License for the specific language governing permissions and\u001b[39;00m\n\u001b[1;32m     13\u001b[0m \u001b[39m# limitations under the License.\u001b[39;00m\n\u001b[1;32m     15\u001b[0m \u001b[39m\"\"\"Non-learned \"base\" physics routines for JAX-CFD.\"\"\"\u001b[39;00m\n\u001b[0;32m---> 17\u001b[0m \u001b[39mimport\u001b[39;00m \u001b[39mjax_cfd\u001b[39;00m\u001b[39m.\u001b[39;00m\u001b[39mbase\u001b[39;00m\u001b[39m.\u001b[39;00m\u001b[39madvection\u001b[39;00m\n\u001b[1;32m     18\u001b[0m \u001b[39mimport\u001b[39;00m \u001b[39mjax_cfd\u001b[39;00m\u001b[39m.\u001b[39;00m\u001b[39mbase\u001b[39;00m\u001b[39m.\u001b[39;00m\u001b[39marray_utils\u001b[39;00m\n\u001b[1;32m     19\u001b[0m \u001b[39mimport\u001b[39;00m \u001b[39mjax_cfd\u001b[39;00m\u001b[39m.\u001b[39;00m\u001b[39mbase\u001b[39;00m\u001b[39m.\u001b[39;00m\u001b[39mboundaries\u001b[39;00m\n",
      "File \u001b[0;32m~/anaconda3/envs/torch2/lib/python3.11/site-packages/jax_cfd/base/advection.py:20\u001b[0m\n\u001b[1;32m     18\u001b[0m \u001b[39mimport\u001b[39;00m \u001b[39mjax\u001b[39;00m\n\u001b[1;32m     19\u001b[0m \u001b[39mimport\u001b[39;00m \u001b[39mjax\u001b[39;00m\u001b[39m.\u001b[39;00m\u001b[39mnumpy\u001b[39;00m \u001b[39mas\u001b[39;00m \u001b[39mjnp\u001b[39;00m\n\u001b[0;32m---> 20\u001b[0m \u001b[39mfrom\u001b[39;00m \u001b[39mjax_cfd\u001b[39;00m\u001b[39m.\u001b[39;00m\u001b[39mbase\u001b[39;00m \u001b[39mimport\u001b[39;00m boundaries\n\u001b[1;32m     21\u001b[0m \u001b[39mfrom\u001b[39;00m \u001b[39mjax_cfd\u001b[39;00m\u001b[39m.\u001b[39;00m\u001b[39mbase\u001b[39;00m \u001b[39mimport\u001b[39;00m finite_differences \u001b[39mas\u001b[39;00m fd\n\u001b[1;32m     22\u001b[0m \u001b[39mfrom\u001b[39;00m \u001b[39mjax_cfd\u001b[39;00m\u001b[39m.\u001b[39;00m\u001b[39mbase\u001b[39;00m \u001b[39mimport\u001b[39;00m grids\n",
      "File \u001b[0;32m~/anaconda3/envs/torch2/lib/python3.11/site-packages/jax_cfd/base/boundaries.py:20\u001b[0m\n\u001b[1;32m     18\u001b[0m \u001b[39mfrom\u001b[39;00m \u001b[39mjax\u001b[39;00m \u001b[39mimport\u001b[39;00m lax\n\u001b[1;32m     19\u001b[0m \u001b[39mimport\u001b[39;00m \u001b[39mjax\u001b[39;00m\u001b[39m.\u001b[39;00m\u001b[39mnumpy\u001b[39;00m \u001b[39mas\u001b[39;00m \u001b[39mjnp\u001b[39;00m\n\u001b[0;32m---> 20\u001b[0m \u001b[39mfrom\u001b[39;00m \u001b[39mjax_cfd\u001b[39;00m\u001b[39m.\u001b[39;00m\u001b[39mbase\u001b[39;00m \u001b[39mimport\u001b[39;00m grids\n\u001b[1;32m     21\u001b[0m \u001b[39mimport\u001b[39;00m \u001b[39mnumpy\u001b[39;00m \u001b[39mas\u001b[39;00m \u001b[39mnp\u001b[39;00m\n\u001b[1;32m     23\u001b[0m BoundaryConditions \u001b[39m=\u001b[39m grids\u001b[39m.\u001b[39mBoundaryConditions\n",
      "File \u001b[0;32m~/anaconda3/envs/torch2/lib/python3.11/site-packages/jax_cfd/base/grids.py:25\u001b[0m\n\u001b[1;32m     23\u001b[0m \u001b[39mimport\u001b[39;00m \u001b[39mjax\u001b[39;00m\u001b[39m.\u001b[39;00m\u001b[39mnumpy\u001b[39;00m \u001b[39mas\u001b[39;00m \u001b[39mjnp\u001b[39;00m\n\u001b[1;32m     24\u001b[0m \u001b[39mfrom\u001b[39;00m \u001b[39mjax\u001b[39;00m\u001b[39m.\u001b[39;00m\u001b[39mtree_util\u001b[39;00m \u001b[39mimport\u001b[39;00m register_pytree_node_class\n\u001b[0;32m---> 25\u001b[0m \u001b[39mfrom\u001b[39;00m \u001b[39mjax_cfd\u001b[39;00m\u001b[39m.\u001b[39;00m\u001b[39mbase\u001b[39;00m \u001b[39mimport\u001b[39;00m array_utils\n\u001b[1;32m     26\u001b[0m \u001b[39mimport\u001b[39;00m \u001b[39mnumpy\u001b[39;00m \u001b[39mas\u001b[39;00m \u001b[39mnp\u001b[39;00m\n\u001b[1;32m     28\u001b[0m \u001b[39m# TODO(jamieas): consider moving common types to a separate module.\u001b[39;00m\n\u001b[1;32m     29\u001b[0m \u001b[39m# TODO(shoyer): consider adding jnp.ndarray?\u001b[39;00m\n",
      "File \u001b[0;32m~/anaconda3/envs/torch2/lib/python3.11/site-packages/jax_cfd/base/array_utils.py:30\u001b[0m\n\u001b[1;32m     25\u001b[0m \u001b[39m# There is currently no good way to indicate a jax \"pytree\" with arrays at its\u001b[39;00m\n\u001b[1;32m     26\u001b[0m \u001b[39m# leaves. See https://jax.readthedocs.io/en/latest/jax.tree_util.html for more\u001b[39;00m\n\u001b[1;32m     27\u001b[0m \u001b[39m# information about PyTrees and https://github.com/google/jax/issues/3340 for\u001b[39;00m\n\u001b[1;32m     28\u001b[0m \u001b[39m# discussion of this issue.\u001b[39;00m\n\u001b[1;32m     29\u001b[0m PyTree \u001b[39m=\u001b[39m Any\n\u001b[0;32m---> 30\u001b[0m Array \u001b[39m=\u001b[39m Union[np\u001b[39m.\u001b[39mndarray, jnp\u001b[39m.\u001b[39;49mDeviceArray]\n\u001b[1;32m     33\u001b[0m \u001b[39mdef\u001b[39;00m \u001b[39m_normalize_axis\u001b[39m(axis: \u001b[39mint\u001b[39m, ndim: \u001b[39mint\u001b[39m) \u001b[39m-\u001b[39m\u001b[39m>\u001b[39m \u001b[39mint\u001b[39m:\n\u001b[1;32m     34\u001b[0m \u001b[39m  \u001b[39m\u001b[39m\"\"\"Validates and returns positive `axis` value.\"\"\"\u001b[39;00m\n",
      "File \u001b[0;32m~/anaconda3/envs/torch2/lib/python3.11/site-packages/jax/_src/deprecations.py:53\u001b[0m, in \u001b[0;36mdeprecation_getattr.<locals>.getattr\u001b[0;34m(name)\u001b[0m\n\u001b[1;32m     51\u001b[0m   warnings\u001b[39m.\u001b[39mwarn(message, \u001b[39mDeprecationWarning\u001b[39;00m, stacklevel\u001b[39m=\u001b[39m\u001b[39m2\u001b[39m)\n\u001b[1;32m     52\u001b[0m   \u001b[39mreturn\u001b[39;00m fn\n\u001b[0;32m---> 53\u001b[0m \u001b[39mraise\u001b[39;00m \u001b[39mAttributeError\u001b[39;00m(\u001b[39mf\u001b[39m\u001b[39m\"\u001b[39m\u001b[39mmodule \u001b[39m\u001b[39m{\u001b[39;00mmodule\u001b[39m!r}\u001b[39;00m\u001b[39m has no attribute \u001b[39m\u001b[39m{\u001b[39;00mname\u001b[39m!r}\u001b[39;00m\u001b[39m\"\u001b[39m)\n",
      "\u001b[0;31mAttributeError\u001b[0m: module 'jax.numpy' has no attribute 'DeviceArray'"
     ]
    }
   ],
   "source": [
    "import jax\n",
    "import jax.numpy as jnp\n",
    "import jax_cfd.base as cfd\n",
    "import numpy as np\n",
    "import seaborn\n",
    "import xarray\n",
    "import jax\n",
    "jax.config.update('jax_array', True)\n",
    "size = 128\n",
    "density = 1.\n",
    "viscosity = 1e-3\n",
    "seed = 0\n",
    "inner_steps = 25\n",
    "outer_steps = 200\n",
    "\n",
    "max_velocity = 2.0\n",
    "cfl_safety_factor = 0.5\n",
    "\n",
    "# Define the physical dimensions of the simulation.\n",
    "grid = cfd.grids.Grid((size, size), domain=((0, 2 * jnp.pi), (0, 2 * jnp.pi)))\n",
    "\n",
    "# Construct a random initial velocity. The `filtered_velocity_field` function\n",
    "# ensures that the initial velocity is divergence free and it filters out\n",
    "# high frequency fluctuations.\n",
    "v0 = cfd.initial_conditions.filtered_velocity_field(\n",
    "    jax.random.PRNGKey(seed), grid, max_velocity)\n",
    "\n",
    "# Choose a time step.\n",
    "dt = cfd.equations.stable_time_step(\n",
    "    max_velocity, cfl_safety_factor, viscosity, grid)\n",
    "\n",
    "# Define a step function and use it to compute a trajectory.\n",
    "step_fn = cfd.funcutils.repeated(\n",
    "    cfd.equations.semi_implicit_navier_stokes(\n",
    "        density=density, viscosity=viscosity, dt=dt, grid=grid),\n",
    "    steps=inner_steps)\n",
    "rollout_fn = jax.jit(cfd.funcutils.trajectory(step_fn, outer_steps))\n",
    "time,trajectory = jax.device_get(rollout_fn(v0))\n",
    "\n",
    "\n",
    "\n",
    "# load into xarray for visualization and analysis\n",
    "ds = xarray.Dataset(\n",
    "    {\n",
    "        'u': (('time', 'x', 'y'), trajectory[0].data),\n",
    "        'v': (('time', 'x', 'y'), trajectory[1].data),\n",
    "    },\n",
    "    coords={\n",
    "        'x': grid.axes()[0],\n",
    "        'y': grid.axes()[1],\n",
    "        'time': dt * inner_steps * np.arange(outer_steps)\n",
    "    }\n",
    ")\n",
    "     \n",
    "def vorticity(ds):\n",
    "  return (ds.v.differentiate('x') - ds.u.differentiate('y')).rename('vorticity')\n",
    "\n",
    "ds['vorticity'] = vorticity(ds)\n",
    "\n",
    "(ds.pipe(vorticity).thin(time=20)\n",
    " .plot.imshow(col='time', cmap=seaborn.cm.icefire, robust=True, col_wrap=5))\n",
    "\n",
    "     \n"
   ]
  },
  {
   "cell_type": "code",
   "execution_count": 7,
   "metadata": {},
   "outputs": [
    {
     "ename": "NameError",
     "evalue": "name 'ds' is not defined",
     "output_type": "error",
     "traceback": [
      "\u001b[0;31m---------------------------------------------------------------------------\u001b[0m",
      "\u001b[0;31mNameError\u001b[0m                                 Traceback (most recent call last)",
      "\u001b[1;32m/home/junyi/workspace/PASR/data_gen/jax_CFD.ipynb Cell 2\u001b[0m line \u001b[0;36m3\n\u001b[1;32m      <a href='vscode-notebook-cell://ssh-remote%2Bjunyi4090.ddns.net/home/junyi/workspace/PASR/data_gen/jax_CFD.ipynb#W1sdnNjb2RlLXJlbW90ZQ%3D%3D?line=0'>1</a>\u001b[0m \u001b[39mimport\u001b[39;00m \u001b[39mh5py\u001b[39;00m\n\u001b[0;32m----> <a href='vscode-notebook-cell://ssh-remote%2Bjunyi4090.ddns.net/home/junyi/workspace/PASR/data_gen/jax_CFD.ipynb#W1sdnNjb2RlLXJlbW90ZQ%3D%3D?line=2'>3</a>\u001b[0m u \u001b[39m=\u001b[39m ds[\u001b[39m'\u001b[39m\u001b[39mu\u001b[39m\u001b[39m'\u001b[39m]\u001b[39m.\u001b[39mvalues\n\u001b[1;32m      <a href='vscode-notebook-cell://ssh-remote%2Bjunyi4090.ddns.net/home/junyi/workspace/PASR/data_gen/jax_CFD.ipynb#W1sdnNjb2RlLXJlbW90ZQ%3D%3D?line=3'>4</a>\u001b[0m v \u001b[39m=\u001b[39m ds[\u001b[39m'\u001b[39m\u001b[39mv\u001b[39m\u001b[39m'\u001b[39m]\u001b[39m.\u001b[39mvalues\n\u001b[1;32m      <a href='vscode-notebook-cell://ssh-remote%2Bjunyi4090.ddns.net/home/junyi/workspace/PASR/data_gen/jax_CFD.ipynb#W1sdnNjb2RlLXJlbW90ZQ%3D%3D?line=4'>5</a>\u001b[0m vorticity \u001b[39m=\u001b[39m ds[\u001b[39m'\u001b[39m\u001b[39mvorticity\u001b[39m\u001b[39m'\u001b[39m]\u001b[39m.\u001b[39mvalues\n",
      "\u001b[0;31mNameError\u001b[0m: name 'ds' is not defined"
     ]
    }
   ],
   "source": [
    "import h5py\n",
    "\n",
    "u = ds['u'].values\n",
    "v = ds['v'].values\n",
    "vorticity = ds['vorticity'].values\n",
    "t = ds['time'].values\n",
    "print(f\"u.shape = {u.shape}, v.shape = {v.shape}, vorticity.shape = {vorticity.shape}, t.shape = {t.shape}\")\n",
    "print(f\"type of u = {type(u)}, type of v = {type(v)}, type of vorticity = {type(vorticity)}, type of t = {type(t)}\")\n",
    "with h5py.File('data.h5', 'w') as f:\n",
    "    tasks = f.create_group('tasks')\n",
    "    tasks.create_dataset('u', data=u)\n",
    "    tasks.create_dataset('v', data=v)\n",
    "    tasks.create_dataset('vorticity', data=vorticity)\n",
    "\n",
    "print(t)"
   ]
  },
  {
   "cell_type": "code",
   "execution_count": null,
   "metadata": {},
   "outputs": [],
   "source": []
  }
 ],
 "metadata": {
  "kernelspec": {
   "display_name": "torch",
   "language": "python",
   "name": "python3"
  },
  "language_info": {
   "codemirror_mode": {
    "name": "ipython",
    "version": 3
   },
   "file_extension": ".py",
   "mimetype": "text/x-python",
   "name": "python",
   "nbconvert_exporter": "python",
   "pygments_lexer": "ipython3",
   "version": "3.11.5"
  },
  "orig_nbformat": 4
 },
 "nbformat": 4,
 "nbformat_minor": 2
}
